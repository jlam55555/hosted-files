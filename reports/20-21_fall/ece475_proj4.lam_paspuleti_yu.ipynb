{
  "nbformat": 4,
  "nbformat_minor": 0,
  "metadata": {
    "colab": {
      "name": "Proj4.ipynb",
      "provenance": [],
      "collapsed_sections": []
    },
    "kernelspec": {
      "name": "python3",
      "display_name": "Python 3"
    },
    "accelerator": "GPU"
  },
  "cells": [
    {
      "cell_type": "code",
      "metadata": {
        "id": "R9t7bwlXvdNI"
      },
      "source": [
        "#Setting up\n",
        "import numpy as np\n",
        "import pandas as pd\n",
        "import matplotlib.pyplot as plt\n",
        "import xgboost as xgb\n",
        "\n",
        "# sklearn utility functions for training\n",
        "from sklearn.model_selection import train_test_split\n",
        "from sklearn.preprocessing import StandardScaler\n",
        "from sklearn.model_selection import GridSearchCV\n",
        "from sklearn.ensemble import RandomForestRegressor\n",
        "from sklearn.datasets import make_regression\n",
        "from sklearn.model_selection import RandomizedSearchCV\n",
        "from sklearn import metrics\n",
        "\n",
        "class XGBoostClassifier:\n",
        "\n",
        "    def __init__(self, X, y, feature_names):\n",
        "\n",
        "        self.feature_names = feature_names\n",
        "\n",
        "        # split into test and training datasets\n",
        "        self.X_train, self.X_test, self.y_train, self.y_test = \\\n",
        "            train_test_split(X, y, \\\n",
        "                             test_size=0.2, \\\n",
        "                             random_state=np.random.randint(0, 100), \\\n",
        "                             shuffle=True)\n",
        "\n",
        "        # standardize features\n",
        "        self.X_train = StandardScaler().fit_transform(self.X_train)\n",
        "        self.X_test = StandardScaler().fit_transform(self.X_test)\n",
        "        \n",
        "        # turn into xgboost dmatrices\n",
        "        self.train_dm = xgb.DMatrix(pd.DataFrame(data=self.X_train, \\\n",
        "                                                 columns=feature_names), \\\n",
        "                                                 label=self.y_train)\n",
        "        self.test_dm = xgb.DMatrix(pd.DataFrame(data=self.X_test, \\\n",
        "                                                columns=feature_names), \\\n",
        "                                                label=self.y_test)\n",
        "\n",
        "    # train the model, and show evaluation statistics on the test dataset\n",
        "    def train_eval(self, num_rounds, max_depth):\n",
        "        eval_list = [(self.train_dm, 'train'), (self.test_dm, 'eval')]\n",
        "        xgb_classifier = xgb.XGBRegressor()\n",
        "        \n",
        "        parms = {\n",
        "            'nthread':        [4],\n",
        "            'objective':      ['reg:squarederror'], # textbook uses Huber loss;\n",
        "                                                    # colab doesn't have newest xgboost\n",
        "                                                    # so we just use reg:squarederror\n",
        "            'learning_rate':  [0.05],\n",
        "            'max_depth':      [max_depth],\n",
        "            'n_estimators':   [num_rounds],\n",
        "            'eval_metric':    ['mae'],              # mean absolute error\n",
        "        }\n",
        "        # grid search to find the optimal parameters\n",
        "        xgb_grid = GridSearchCV(xgb_classifier,\n",
        "                                parms,\n",
        "                                cv=2,\n",
        "                                n_jobs=5,\n",
        "                                verbose=True)\n",
        "\n",
        "        xgb_grid.fit(self.X_train, self.y_train)\n",
        "        print(f'Best score from grid search: {xgb_grid.best_score_}')\n",
        "        print(f'Best parameters from grid search: {xgb_grid.best_score_}')\n",
        "        self.progress = {}        \n",
        "        self.xgb_classifier = xgb.train(xgb_grid.best_params_,\n",
        "                                        self.train_dm,\n",
        "                                        num_boost_round=100,\n",
        "                                        evals=eval_list,\n",
        "                                        evals_result=self.progress,\n",
        "                                        early_stopping_rounds=100,\n",
        "                                        verbose_eval=False)\n",
        "\n",
        "    # plot average absolute error vs. iterations; assumes model has \n",
        "    # already been trained\n",
        "    def gb_mae(self):\n",
        "      return (self.progress['eval']['mae'])\n",
        "\n",
        "    def random_forest(self,n_trees, m ):\n",
        "      self.trees = list(range(1, n_trees))\n",
        "      self._mae = np.zeros(len(self.trees))\n",
        "      for i in range(n_trees -1):\n",
        "        tree = self.trees[i]\n",
        "        regressor = RandomForestRegressor(n_estimators=tree, max_features=m)\n",
        "        regressor.fit(self.X_train, self.y_train)\n",
        "        y_pred = regressor.predict(self.X_test)\n",
        "        self._mae[i] = metrics.mean_absolute_error(self.y_test, y_pred)\n",
        "        print(i)\n",
        "    def rf_mae(self):\n",
        "      return self._mae\n",
        "    def num_trees(self):\n",
        "      return self.trees\n",
        "\n",
        "\n",
        "\n",
        "      # california housing dataset from sklearn\n",
        "from sklearn.datasets import fetch_california_housing\n",
        "cal_housing = fetch_california_housing()\n",
        "X = pd.DataFrame(cal_housing.data, columns=cal_housing.feature_names)\n",
        "y = cal_housing.target\n",
        "\n",
        "n_trees = 275\n",
        "\n",
        "# create classifier\n",
        "classifier = XGBoostClassifier(X, y, cal_housing.feature_names)"
      ],
      "execution_count": null,
      "outputs": []
    },
    {
      "cell_type": "code",
      "metadata": {
        "id": "dnluA8jdvrPI",
        "outputId": "0e30d0be-b0d5-478e-f2a9-073c1a3a6898",
        "colab": {
          "base_uri": "https://localhost:8080/",
          "height": 387
        }
      },
      "source": [
        "# train classifier\n",
        "classifier.train_eval(n_trees, 4)\n",
        "GBM_depth_4 = classifier.gb_mae()\n",
        "\n",
        "plt.figure()\n",
        "plt.plot(GBM_depth_4)"
      ],
      "execution_count": null,
      "outputs": [
        {
          "output_type": "stream",
          "text": [
            "Fitting 2 folds for each of 1 candidates, totalling 2 fits\n"
          ],
          "name": "stdout"
        },
        {
          "output_type": "stream",
          "text": [
            "[Parallel(n_jobs=5)]: Using backend LokyBackend with 5 concurrent workers.\n",
            "[Parallel(n_jobs=5)]: Done   2 out of   2 | elapsed:    3.4s remaining:    0.0s\n",
            "[Parallel(n_jobs=5)]: Done   2 out of   2 | elapsed:    3.4s finished\n"
          ],
          "name": "stderr"
        },
        {
          "output_type": "stream",
          "text": [
            "Best score from grid search: 0.8049024718829725\n",
            "Best parameters from grid search: 0.8049024718829725\n"
          ],
          "name": "stdout"
        },
        {
          "output_type": "execute_result",
          "data": {
            "text/plain": [
              "[<matplotlib.lines.Line2D at 0x7f66b1b2a080>]"
            ]
          },
          "metadata": {
            "tags": []
          },
          "execution_count": 6
        },
        {
          "output_type": "display_data",
          "data": {
            "image/png": "[encoded data removed]",
            "text/plain": [
              "<Figure size 432x288 with 1 Axes>"
            ]
          },
          "metadata": {
            "tags": [],
            "needs_background": "light"
          }
        }
      ]
    },
    {
      "cell_type": "code",
      "metadata": {
        "id": "SNoQa3i-vyEx",
        "outputId": "a1ac6ec2-ffcf-4b22-a802-7547cbfd98e2",
        "colab": {
          "base_uri": "https://localhost:8080/",
          "height": 387
        }
      },
      "source": [
        "classifier.train_eval(n_trees, 6)\n",
        "GBM_depth_6 = classifier.gb_mae()\n",
        "\n",
        "plt.figure()\n",
        "plt.plot(GBM_depth_6)"
      ],
      "execution_count": null,
      "outputs": [
        {
          "output_type": "stream",
          "text": [
            "Fitting 2 folds for each of 1 candidates, totalling 2 fits\n"
          ],
          "name": "stdout"
        },
        {
          "output_type": "stream",
          "text": [
            "[Parallel(n_jobs=5)]: Using backend LokyBackend with 5 concurrent workers.\n",
            "[Parallel(n_jobs=5)]: Done   2 out of   2 | elapsed:    5.4s remaining:    0.0s\n",
            "[Parallel(n_jobs=5)]: Done   2 out of   2 | elapsed:    5.4s finished\n"
          ],
          "name": "stderr"
        },
        {
          "output_type": "stream",
          "text": [
            "Best score from grid search: 0.8192566595418167\n",
            "Best parameters from grid search: 0.8192566595418167\n"
          ],
          "name": "stdout"
        },
        {
          "output_type": "execute_result",
          "data": {
            "text/plain": [
              "[<matplotlib.lines.Line2D at 0x7f66b1aab1d0>]"
            ]
          },
          "metadata": {
            "tags": []
          },
          "execution_count": 7
        },
        {
          "output_type": "display_data",
          "data": {
            "image/png": "[encoded data removed]",
            "text/plain": [
              "<Figure size 432x288 with 1 Axes>"
            ]
          },
          "metadata": {
            "tags": [],
            "needs_background": "light"
          }
        }
      ]
    },
    {
      "cell_type": "code",
      "metadata": {
        "id": "uJ6pitq_v4a0"
      },
      "source": [
        "classifier.random_forest(n_trees,2)\n",
        "RF_m_2 = classifier.rf_mae()"
      ],
      "execution_count": null,
      "outputs": []
    },
    {
      "cell_type": "code",
      "metadata": {
        "id": "ETfOjgiZv6N2"
      },
      "source": [
        "classifier.random_forest(n_trees,6)\n",
        "RF_m_6 = classifier.rf_mae()"
      ],
      "execution_count": null,
      "outputs": []
    },
    {
      "cell_type": "code",
      "metadata": {
        "id": "0RzgBnmXv8TI"
      },
      "source": [
        "plt.figure()\n",
        "plt.plot(GBM_depth_4)\n",
        "plt.plot(GBM_depth_6)\n",
        "plt.plot(RF_m_2)\n",
        "plt.plot(RF_m_6)\n",
        "plt.legend(['GBM depth=4', 'GBM depth=6', 'RF m=2', 'RF m=6'])\n",
        "plt.title('California Housing Data')\n",
        "plt.ylim([0, 1])\n",
        "plt.xlim([0, n_trees])\n",
        "plt.xlabel('Number of Trees')\n",
        "plt.show()"
      ],
      "execution_count": null,
      "outputs": []
    }
  ]
}